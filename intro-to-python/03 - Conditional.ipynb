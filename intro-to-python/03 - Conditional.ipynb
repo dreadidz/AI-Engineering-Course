{
 "cells": [
  {
   "cell_type": "markdown",
   "id": "afb4cd64",
   "metadata": {},
   "source": [
    "# Conditional"
   ]
  },
  {
   "cell_type": "code",
   "execution_count": null,
   "id": "f3fbbd9d",
   "metadata": {},
   "outputs": [],
   "source": [
    "is_graduated = True"
   ]
  },
  {
   "cell_type": "code",
   "execution_count": 3,
   "id": "c568eb10",
   "metadata": {
    "ExecuteTime": {
     "end_time": "2022-03-06T07:27:56.252321Z",
     "start_time": "2022-03-06T07:27:56.248433Z"
    }
   },
   "outputs": [
    {
     "data": {
      "text/plain": [
       "(False, True)"
      ]
     },
     "execution_count": 3,
     "metadata": {},
     "output_type": "execute_result"
    }
   ],
   "source": [
    "score = 70\n",
    "good_score = score >= 85\n",
    "average_score = score >= 60 and score < 85\n",
    "good_score, average_score"
   ]
  },
  {
   "cell_type": "code",
   "execution_count": 2,
   "id": "1edb0b3f",
   "metadata": {
    "ExecuteTime": {
     "end_time": "2022-03-06T07:25:47.788003Z",
     "start_time": "2022-03-06T07:25:47.780452Z"
    }
   },
   "outputs": [
    {
     "data": {
      "text/plain": [
       "True"
      ]
     },
     "execution_count": 2,
     "metadata": {},
     "output_type": "execute_result"
    }
   ],
   "source": [
    "animals = [\"cow\", \"fish\", \"cat\"]\n",
    "\"cow\" in animals"
   ]
  },
  {
   "cell_type": "markdown",
   "id": "c5934fa7",
   "metadata": {},
   "source": [
    "# Control Flow"
   ]
  },
  {
   "cell_type": "code",
   "execution_count": 4,
   "id": "835de703",
   "metadata": {
    "ExecuteTime": {
     "end_time": "2022-03-06T07:28:08.807700Z",
     "start_time": "2022-03-06T07:28:08.805929Z"
    }
   },
   "outputs": [],
   "source": [
    "# if condition:\n",
    "#     then"
   ]
  },
  {
   "cell_type": "code",
   "execution_count": 6,
   "id": "0b13c5c7",
   "metadata": {
    "ExecuteTime": {
     "end_time": "2022-03-06T07:28:50.700834Z",
     "start_time": "2022-03-06T07:28:50.697559Z"
    }
   },
   "outputs": [
    {
     "name": "stdout",
     "output_type": "stream",
     "text": [
      "Not good Score\n"
     ]
    }
   ],
   "source": [
    "score = 70\n",
    "good_score = score >= 85\n",
    "if good_score:\n",
    "    print(\"Good score\")\n",
    "else:\n",
    "    print(\"Not good Score\")"
   ]
  },
  {
   "cell_type": "code",
   "execution_count": 7,
   "id": "a90d8d22",
   "metadata": {
    "ExecuteTime": {
     "end_time": "2022-03-06T07:29:14.255714Z",
     "start_time": "2022-03-06T07:29:14.252289Z"
    }
   },
   "outputs": [
    {
     "name": "stdout",
     "output_type": "stream",
     "text": [
      "Average score\n"
     ]
    }
   ],
   "source": [
    "score = 70\n",
    "good_score = score >= 85\n",
    "average_score = score >= 60 and score < 85\n",
    "if good_score:\n",
    "    print(\"Good score\")\n",
    "elif average_score:\n",
    "    print(\"Average score\")\n",
    "else:\n",
    "    print(\"Not good/average Score\")"
   ]
  },
  {
   "cell_type": "code",
   "execution_count": 8,
   "id": "f3b4864f",
   "metadata": {
    "ExecuteTime": {
     "end_time": "2022-03-06T07:29:54.028881Z",
     "start_time": "2022-03-06T07:29:54.025104Z"
    }
   },
   "outputs": [
    {
     "name": "stdout",
     "output_type": "stream",
     "text": [
      "Average score\n"
     ]
    }
   ],
   "source": [
    "score = 70\n",
    "if score >= 85:\n",
    "    print(\"Good score\")\n",
    "elif score >= 60 and score < 85:\n",
    "    print(\"Average score\")\n",
    "elif score >= 50 and score < 60:\n",
    "    print(\"Bad score\")\n",
    "else:\n",
    "    print(\"Not passed\")"
   ]
  },
  {
   "cell_type": "code",
   "execution_count": 9,
   "id": "28626788",
   "metadata": {
    "ExecuteTime": {
     "end_time": "2022-03-06T07:49:08.734035Z",
     "start_time": "2022-03-06T07:49:08.728616Z"
    }
   },
   "outputs": [
    {
     "data": {
      "text/plain": [
       "('D', 'B')"
      ]
     },
     "execution_count": 9,
     "metadata": {},
     "output_type": "execute_result"
    }
   ],
   "source": [
    "def score_converter(score):\n",
    "    if score >= 85:\n",
    "        return \"A\"\n",
    "    elif score >= 80:\n",
    "        return \"A-\"\n",
    "    elif score >= 75:\n",
    "        return \"B+\"\n",
    "    elif score >= 70:\n",
    "        return \"B\"\n",
    "    elif score >= 65:\n",
    "        return \"B\"\n",
    "    elif score >= 55:\n",
    "        return \"C\"\n",
    "    elif score >= 30:\n",
    "        return \"D\"\n",
    "    else:\n",
    "        return \"E\"\n",
    "    \n",
    "budi_score = score_converter(53.3)\n",
    "iwan_score = score_converter(72)\n",
    "budi_score, iwan_score"
   ]
  }
 ],
 "metadata": {
  "kernelspec": {
   "display_name": "Python [conda env:root] *",
   "language": "python",
   "name": "conda-root-py"
  },
  "language_info": {
   "codemirror_mode": {
    "name": "ipython",
    "version": 3
   },
   "file_extension": ".py",
   "mimetype": "text/x-python",
   "name": "python",
   "nbconvert_exporter": "python",
   "pygments_lexer": "ipython3",
   "version": "3.7.13"
  }
 },
 "nbformat": 4,
 "nbformat_minor": 5
}
