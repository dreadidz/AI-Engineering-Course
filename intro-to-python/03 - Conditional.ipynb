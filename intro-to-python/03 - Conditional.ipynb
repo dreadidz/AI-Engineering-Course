{
 "cells": [
  {
   "cell_type": "markdown",
   "id": "afb4cd64",
   "metadata": {},
   "source": [
    "# Conditional"
   ]
  },
  {
   "cell_type": "code",
   "execution_count": 1,
   "id": "f3fbbd9d",
   "metadata": {},
   "outputs": [],
   "source": [
    "is_graduated = True"
   ]
  },
  {
   "cell_type": "code",
   "execution_count": 3,
   "id": "c568eb10",
   "metadata": {
    "ExecuteTime": {
     "end_time": "2022-03-06T07:27:56.252321Z",
     "start_time": "2022-03-06T07:27:56.248433Z"
    }
   },
   "outputs": [
    {
     "data": {
      "text/plain": [
       "(False, True)"
      ]
     },
     "execution_count": 3,
     "metadata": {},
     "output_type": "execute_result"
    }
   ],
   "source": [
    "score = 70\n",
    "good_score = score >= 85 # perbandingan\n",
    "average_score = score >= 60 and score < 85 # banyak perbandingan\n",
    "good_score, average_score"
   ]
  },
  {
   "cell_type": "code",
   "execution_count": 5,
   "id": "5dac6e41-d67d-424c-90be-95953d0e504a",
   "metadata": {},
   "outputs": [
    {
     "data": {
      "text/plain": [
       "False"
      ]
     },
     "execution_count": 5,
     "metadata": {},
     "output_type": "execute_result"
    }
   ],
   "source": [
    "# KASUS AND: \n",
    "# IPK Cumlaude: Total Nilai 3.5 dan Salah satu nilai gak boleh dibawah 2\n",
    "\n",
    "matkul_a = 4\n",
    "matkul_b = 1.9\n",
    "total_nilai = (matkul_a + matkul_b) / 2\n",
    "\n",
    "is_cumlaude = total_nilai >= 3.5 and matkul_a > 2 and matkul_b > 2\n",
    "is_cumlaude"
   ]
  },
  {
   "cell_type": "code",
   "execution_count": 7,
   "id": "a9f6b0dc-8462-48a7-a1aa-30d601b6fb32",
   "metadata": {},
   "outputs": [
    {
     "data": {
      "text/plain": [
       "False"
      ]
     },
     "execution_count": 7,
     "metadata": {},
     "output_type": "execute_result"
    }
   ],
   "source": [
    "# KASUS OR:\n",
    "# Pengajuan: minimal 5 tahun kerja atau gross penghasilan > 10jt\n",
    "masa_kerja = 3\n",
    "gross_penghasilan = 2000000\n",
    "\n",
    "is_pengajuan_disetujui = masa_kerja > 5 or gross_penghasilan > 10000000\n",
    "is_pengajuan_disetujui"
   ]
  },
  {
   "cell_type": "code",
   "execution_count": 8,
   "id": "1edb0b3f",
   "metadata": {
    "ExecuteTime": {
     "end_time": "2022-03-06T07:25:47.788003Z",
     "start_time": "2022-03-06T07:25:47.780452Z"
    }
   },
   "outputs": [
    {
     "data": {
      "text/plain": [
       "True"
      ]
     },
     "execution_count": 8,
     "metadata": {},
     "output_type": "execute_result"
    }
   ],
   "source": [
    "animals = [\"cow\", \"fish\", \"cat\"]\n",
    "\"cow\" in animals"
   ]
  },
  {
   "cell_type": "code",
   "execution_count": 9,
   "id": "1bb665de-7d76-45d1-9881-ac98cd789f6e",
   "metadata": {},
   "outputs": [
    {
     "data": {
      "text/plain": [
       "True"
      ]
     },
     "execution_count": 9,
     "metadata": {},
     "output_type": "execute_result"
    }
   ],
   "source": [
    "len(animals) > 0"
   ]
  },
  {
   "cell_type": "code",
   "execution_count": 11,
   "id": "c2cbc925-9a5e-4f9a-905a-e176f99f99a7",
   "metadata": {},
   "outputs": [
    {
     "data": {
      "text/plain": [
       "True"
      ]
     },
     "execution_count": 11,
     "metadata": {},
     "output_type": "execute_result"
    }
   ],
   "source": [
    "phoneNumber = \"8131213\"\n",
    "phoneNumber.isdigit()"
   ]
  },
  {
   "cell_type": "code",
   "execution_count": 12,
   "id": "e6ec6a9b-c679-4c27-b8c7-416885f5ec20",
   "metadata": {},
   "outputs": [
    {
     "data": {
      "text/plain": [
       "True"
      ]
     },
     "execution_count": 12,
     "metadata": {},
     "output_type": "execute_result"
    }
   ],
   "source": [
    "email = \"rama@gmail.com\"\n",
    "\"gmail\" in email"
   ]
  },
  {
   "cell_type": "code",
   "execution_count": 13,
   "id": "49409f80-8aea-4f3c-856a-07c300a8a529",
   "metadata": {},
   "outputs": [
    {
     "data": {
      "text/plain": [
       "True"
      ]
     },
     "execution_count": 13,
     "metadata": {},
     "output_type": "execute_result"
    }
   ],
   "source": [
    "email = \"rama@jakartalabs.com\"\n",
    "\"jakartalabs\" in email"
   ]
  },
  {
   "cell_type": "markdown",
   "id": "c5934fa7",
   "metadata": {},
   "source": [
    "# Control Flow"
   ]
  },
  {
   "cell_type": "code",
   "execution_count": 4,
   "id": "835de703",
   "metadata": {
    "ExecuteTime": {
     "end_time": "2022-03-06T07:28:08.807700Z",
     "start_time": "2022-03-06T07:28:08.805929Z"
    }
   },
   "outputs": [],
   "source": [
    "# if condition:\n",
    "#     then"
   ]
  },
  {
   "cell_type": "code",
   "execution_count": 6,
   "id": "0b13c5c7",
   "metadata": {
    "ExecuteTime": {
     "end_time": "2022-03-06T07:28:50.700834Z",
     "start_time": "2022-03-06T07:28:50.697559Z"
    }
   },
   "outputs": [
    {
     "name": "stdout",
     "output_type": "stream",
     "text": [
      "Not good Score\n"
     ]
    }
   ],
   "source": [
    "score = 70\n",
    "good_score = score >= 85\n",
    "if good_score:\n",
    "    print(\"Good score\")\n",
    "else:\n",
    "    print(\"Not good Score\")"
   ]
  },
  {
   "cell_type": "code",
   "execution_count": 14,
   "id": "a90d8d22",
   "metadata": {
    "ExecuteTime": {
     "end_time": "2022-03-06T07:29:14.255714Z",
     "start_time": "2022-03-06T07:29:14.252289Z"
    }
   },
   "outputs": [
    {
     "name": "stdout",
     "output_type": "stream",
     "text": [
      "Average score\n"
     ]
    }
   ],
   "source": [
    "score = 70\n",
    "good_score = score >= 85\n",
    "average_score = score >= 60 and score < 85\n",
    "if good_score:\n",
    "    print(\"Good score\")\n",
    "elif average_score:\n",
    "    print(\"Average score\")\n",
    "else:\n",
    "    print(\"Not good/average Score\")"
   ]
  },
  {
   "cell_type": "code",
   "execution_count": 15,
   "id": "f3b4864f",
   "metadata": {
    "ExecuteTime": {
     "end_time": "2022-03-06T07:29:54.028881Z",
     "start_time": "2022-03-06T07:29:54.025104Z"
    }
   },
   "outputs": [
    {
     "name": "stdout",
     "output_type": "stream",
     "text": [
      "Average score\n"
     ]
    }
   ],
   "source": [
    "# Kalau sederhana bisa buat kondisi langsung di if elsenya\n",
    "score = 70\n",
    "if score >= 85:\n",
    "    print(\"Good score\")\n",
    "elif score >= 60 and score < 85:\n",
    "    print(\"Average score\")\n",
    "elif score >= 50 and score < 60:\n",
    "    print(\"Bad score\")\n",
    "else:\n",
    "    print(\"Not passed\")"
   ]
  },
  {
   "cell_type": "code",
   "execution_count": 16,
   "id": "28626788",
   "metadata": {
    "ExecuteTime": {
     "end_time": "2022-03-06T07:49:08.734035Z",
     "start_time": "2022-03-06T07:49:08.728616Z"
    }
   },
   "outputs": [
    {
     "data": {
      "text/plain": [
       "('D', 'B')"
      ]
     },
     "execution_count": 16,
     "metadata": {},
     "output_type": "execute_result"
    }
   ],
   "source": [
    "def score_converter(score):\n",
    "    if score >= 85:\n",
    "        return \"A\"\n",
    "    elif score >= 80:\n",
    "        return \"A-\"\n",
    "    elif score >= 75:\n",
    "        return \"B+\"\n",
    "    elif score >= 70:\n",
    "        return \"B\"\n",
    "    elif score >= 65:\n",
    "        return \"B\"\n",
    "    elif score >= 55:\n",
    "        return \"C\"\n",
    "    elif score >= 30:\n",
    "        return \"D\"\n",
    "    else:\n",
    "        return \"E\"\n",
    "    \n",
    "budi_score = score_converter(53.3)\n",
    "iwan_score = score_converter(72)\n",
    "budi_score, iwan_score"
   ]
  },
  {
   "cell_type": "code",
   "execution_count": 29,
   "id": "290c3cb7-c7b7-4b12-aa08-16ebba1b228a",
   "metadata": {},
   "outputs": [
    {
     "name": "stdout",
     "output_type": "stream",
     "text": [
      "Not Spam\n",
      "Spam\n",
      "Spam\n",
      "Not Spam\n"
     ]
    }
   ],
   "source": [
    "# deteksi email spam\n",
    "# Bukan email spam kalau dia itu berasal adalah \"gmail, yahoo, hotmail\"\n",
    "# Silahkan buat fungsi yang dapat menyelesaikan masalah tersebut\n",
    "def predict_spam(email):\n",
    "    if \"gmail\" in email:\n",
    "        return \"Not Spam\"\n",
    "    elif \"yahoo\" in email:\n",
    "        return \"Not Spam\"\n",
    "    elif \"hotmail\" in email:\n",
    "        return \"Not Spam\"\n",
    "    else:\n",
    "        return \"Spam\"\n",
    "print(predict_spam(\"rama@gmail.com\"))\n",
    "print(predict_spam(\"rama@xyz.com\"))\n",
    "print(predict_spam(\"rama@yaho.com\"))\n",
    "print(predict_spam(\"rama@hotmail.com\"))"
   ]
  },
  {
   "cell_type": "code",
   "execution_count": 32,
   "id": "1b689b07-4ba7-4e03-b868-b4378e4487dd",
   "metadata": {},
   "outputs": [
    {
     "name": "stdout",
     "output_type": "stream",
     "text": [
      "Not Spam\n",
      "Spam\n",
      "Spam\n",
      "Not Spam\n"
     ]
    }
   ],
   "source": [
    "# deteksi email spam\n",
    "# Bukan email spam kalau dia itu berasal adalah \"gmail, yahoo, hotmail\"\n",
    "# Silahkan buat fungsi yang dapat menyelesaikan masalah tersebut\n",
    "def predict_spam(email):\n",
    "    if \"gmail\" in email or \"yahoo\" in email or \"hotmail\" in email:\n",
    "        return \"Not Spam\"\n",
    "    else:\n",
    "        return \"Spam\"\n",
    "print(predict_spam(\"rama@gmail.com\")) # biar ini ke print aja\n",
    "print(predict_spam(\"rama@xyz.com\")) # biar ini ke print aja\n",
    "print(predict_spam(\"rama@yaho.com\")) # biar ini ke print aja\n",
    "print(predict_spam(\"rama@hotmail.com\"))"
   ]
  },
  {
   "cell_type": "code",
   "execution_count": 27,
   "id": "c236288a-9505-4355-a2ce-a90b074bf96a",
   "metadata": {},
   "outputs": [
    {
     "name": "stdout",
     "output_type": "stream",
     "text": [
      "testimoni\n"
     ]
    }
   ],
   "source": [
    "\"Tanya barang, complaint, testimoni\"\n",
    "messages = \"min produk sudah sampe, saya sangat puas\"\n",
    "if (\"puas\" or \"senang\" or \"sangat puas\") in messages:\n",
    "    print(\"testimoni\")\n",
    "elif (\"nyesel\") in messages:\n",
    "    print(\"complaint\")\n",
    "else:\n",
    "    print(\"Tanya barang\")\n"
   ]
  },
  {
   "cell_type": "code",
   "execution_count": 24,
   "id": "1831b011-99cb-473f-8e0a-f1951a508949",
   "metadata": {},
   "outputs": [
    {
     "name": "stdout",
     "output_type": "stream",
     "text": [
      "Ini messagenya apa\n"
     ]
    },
    {
     "data": {
      "text/plain": [
       "'min produk sudah sampe, saya sangat puas'"
      ]
     },
     "execution_count": 24,
     "metadata": {},
     "output_type": "execute_result"
    }
   ],
   "source": [
    "# print(\"Menampilkan nilai\")\n",
    "print(\"Ini messagenya apa\")\n",
    "messages # outputnya apa"
   ]
  }
 ],
 "metadata": {
  "kernelspec": {
   "display_name": "Python [conda env:root] *",
   "language": "python",
   "name": "conda-root-py"
  },
  "language_info": {
   "codemirror_mode": {
    "name": "ipython",
    "version": 3
   },
   "file_extension": ".py",
   "mimetype": "text/x-python",
   "name": "python",
   "nbconvert_exporter": "python",
   "pygments_lexer": "ipython3",
   "version": "3.7.13"
  }
 },
 "nbformat": 4,
 "nbformat_minor": 5
}
