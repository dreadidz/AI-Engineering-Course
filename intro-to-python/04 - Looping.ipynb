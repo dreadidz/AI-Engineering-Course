{
 "cells": [
  {
   "cell_type": "markdown",
   "id": "0b88fb08-8ba2-4573-8e4c-2775686b4f5f",
   "metadata": {},
   "source": [
    "# Looping\n",
    "\n",
    "Menyelesaikan masalah yang berulang"
   ]
  },
  {
   "cell_type": "code",
   "execution_count": 1,
   "id": "d83c9a8d",
   "metadata": {
    "ExecuteTime": {
     "end_time": "2022-03-06T07:51:24.941526Z",
     "start_time": "2022-03-06T07:51:24.937800Z"
    }
   },
   "outputs": [
    {
     "name": "stdout",
     "output_type": "stream",
     "text": [
      "Saya tidak akan mengulangi kesalahan yang sama lagi\n",
      "Saya tidak akan mengulangi kesalahan yang sama lagi\n",
      "Saya tidak akan mengulangi kesalahan yang sama lagi\n",
      "Saya tidak akan mengulangi kesalahan yang sama lagi\n",
      "Saya tidak akan mengulangi kesalahan yang sama lagi\n",
      "Saya tidak akan mengulangi kesalahan yang sama lagi\n"
     ]
    }
   ],
   "source": [
    "print(\"Saya tidak akan mengulangi kesalahan yang sama lagi\")\n",
    "print(\"Saya tidak akan mengulangi kesalahan yang sama lagi\")\n",
    "print(\"Saya tidak akan mengulangi kesalahan yang sama lagi\")\n",
    "print(\"Saya tidak akan mengulangi kesalahan yang sama lagi\")\n",
    "print(\"Saya tidak akan mengulangi kesalahan yang sama lagi\")\n",
    "print(\"Saya tidak akan mengulangi kesalahan yang sama lagi\")"
   ]
  },
  {
   "cell_type": "markdown",
   "id": "14d69ebf",
   "metadata": {
    "ExecuteTime": {
     "end_time": "2022-03-06T07:56:26.385641Z",
     "start_time": "2022-03-06T07:56:26.382432Z"
    }
   },
   "source": [
    "Looping digunakan pada statement yang dilakukan secara **berulang-ulang**"
   ]
  },
  {
   "cell_type": "markdown",
   "id": "e172435b-b800-47d7-b756-60a55e51c9cc",
   "metadata": {},
   "source": [
    "**3 Komponent looping**\n",
    "1. Batasnya apa? Kita mau kerjakan sampai kapan\n",
    "2. Apa saja yang mau kita kerjakan\n",
    "3. Bagaimana cara kita berhenti"
   ]
  },
  {
   "cell_type": "code",
   "execution_count": 2,
   "id": "72eec9c6",
   "metadata": {
    "ExecuteTime": {
     "end_time": "2022-03-06T07:54:09.277686Z",
     "start_time": "2022-03-06T07:54:09.274690Z"
    }
   },
   "outputs": [
    {
     "name": "stdout",
     "output_type": "stream",
     "text": [
      "Saya tidak akan mengulangi kesalahan yang sama lagi\n",
      "Saya tidak akan mengulangi kesalahan yang sama lagi\n",
      "Saya tidak akan mengulangi kesalahan yang sama lagi\n",
      "Saya tidak akan mengulangi kesalahan yang sama lagi\n",
      "Saya tidak akan mengulangi kesalahan yang sama lagi\n"
     ]
    }
   ],
   "source": [
    "# range(5) -> [0, 1, 2, 3, 4]\n",
    "for i in range(5):\n",
    "    print(\"Saya tidak akan mengulangi kesalahan yang sama lagi\")"
   ]
  },
  {
   "cell_type": "code",
   "execution_count": 3,
   "id": "98036123",
   "metadata": {
    "ExecuteTime": {
     "end_time": "2022-03-06T07:54:43.389226Z",
     "start_time": "2022-03-06T07:54:43.386254Z"
    }
   },
   "outputs": [
    {
     "name": "stdout",
     "output_type": "stream",
     "text": [
      "Nilai i adalah 0\n",
      "Nilai i adalah 1\n",
      "Nilai i adalah 2\n",
      "Nilai i adalah 3\n",
      "Nilai i adalah 4\n"
     ]
    }
   ],
   "source": [
    "for i in range(5):\n",
    "    print(f\"Nilai i adalah {i}\")"
   ]
  },
  {
   "cell_type": "code",
   "execution_count": 4,
   "id": "918a223f",
   "metadata": {
    "ExecuteTime": {
     "end_time": "2022-03-06T07:55:13.639191Z",
     "start_time": "2022-03-06T07:55:13.636525Z"
    }
   },
   "outputs": [
    {
     "name": "stdout",
     "output_type": "stream",
     "text": [
      "cat\n",
      "dog\n",
      "fish\n"
     ]
    }
   ],
   "source": [
    "animals = [\"cat\", \"dog\", \"fish\"]\n",
    "# print(animals[0])\n",
    "# print(animals[1])\n",
    "# print(animals[2])\n",
    "for animal in animals:\n",
    "    print(animal)"
   ]
  },
  {
   "cell_type": "code",
   "execution_count": 5,
   "id": "dd3111fc-2fb2-4278-9bee-fe4be9db8177",
   "metadata": {},
   "outputs": [
    {
     "name": "stdout",
     "output_type": "stream",
     "text": [
      "Nilai i adalah 0\n",
      "Nilai i adalah 1\n",
      "Nilai i adalah 2\n",
      "Nilai i adalah 3\n",
      "Nilai i adalah 4\n"
     ]
    }
   ],
   "source": [
    "# Batasnya apa? Kita mau kerjakan sampai kapan -> jumlah animals\n",
    "# Apa saja yang mau kita kerjakan -> print, if else, looping\n",
    "# Bagaimana cara kita berhenti -> ? kalau pake for loop itu udah otomatis\n",
    "\n",
    "i = 0\n",
    "while i < 5: # agar dia bisa keluar dari while\n",
    "    print(f\"Nilai i adalah {i}\")\n",
    "    i = i + 1"
   ]
  },
  {
   "cell_type": "code",
   "execution_count": 6,
   "id": "65422c9e-7c23-43bb-b1fc-caad33be78ec",
   "metadata": {},
   "outputs": [],
   "source": [
    "# while digunakan untuk batas yang tidak tentu\n",
    "\n",
    "# while selama_cctv_nyala:\n",
    "#     prediksi_plat_mobil\n",
    "#     if tombol_cctv_dimatiin:\n",
    "#         matiin cctv"
   ]
  },
  {
   "cell_type": "markdown",
   "id": "88bc4095",
   "metadata": {},
   "source": [
    "*Enumerate* dapat digunakan untuk mendapatkan nilai index dan value pada list"
   ]
  },
  {
   "cell_type": "code",
   "execution_count": 7,
   "id": "ed6aa06e",
   "metadata": {
    "ExecuteTime": {
     "end_time": "2022-03-06T07:55:42.839531Z",
     "start_time": "2022-03-06T07:55:42.836753Z"
    }
   },
   "outputs": [
    {
     "name": "stdout",
     "output_type": "stream",
     "text": [
      "1. cat\n",
      "2. dog\n",
      "3. fish\n"
     ]
    }
   ],
   "source": [
    "for i, animal in enumerate(animals):\n",
    "    print(f\"{i + 1}. {animal}\")"
   ]
  },
  {
   "cell_type": "code",
   "execution_count": 8,
   "id": "942146d0-ee9f-40c5-8946-409a292c6836",
   "metadata": {},
   "outputs": [
    {
     "name": "stdout",
     "output_type": "stream",
     "text": [
      "1. rama mengerjakan soal genap\n",
      "2. budi mengerjakan soal ganjil\n",
      "3. teguh mengerjakan soal genap\n"
     ]
    }
   ],
   "source": [
    "students = [\"rama\", \"budi\", \"teguh\"]\n",
    "for i, student in enumerate(students):\n",
    "    if i % 2 == 0:\n",
    "        print(f\"{i + 1}. {student} mengerjakan soal genap\")\n",
    "    else:\n",
    "        print(f\"{i + 1}. {student} mengerjakan soal ganjil\")"
   ]
  },
  {
   "cell_type": "code",
   "execution_count": 9,
   "id": "27d9b1d3-c305-4852-8dac-b6054d05de39",
   "metadata": {},
   "outputs": [
    {
     "name": "stdout",
     "output_type": "stream",
     "text": [
      "rama: jakarta\n",
      "budi: bandung\n",
      "teguh: surabaya\n"
     ]
    }
   ],
   "source": [
    "users = [\"rama\", \"budi\", \"teguh\"]\n",
    "addresses = [\"jakarta\", \"bandung\", \"surabaya\"]\n",
    "for user, address in zip(users, addresses):\n",
    "    print(f\"{user}: {address}\")"
   ]
  },
  {
   "cell_type": "code",
   "execution_count": 10,
   "id": "2d910370",
   "metadata": {
    "ExecuteTime": {
     "end_time": "2022-03-06T07:57:38.534368Z",
     "start_time": "2022-03-06T07:57:38.530936Z"
    }
   },
   "outputs": [],
   "source": [
    "def score_converter(score):\n",
    "    if score >= 85:\n",
    "        return \"A\"\n",
    "    elif score >= 80:\n",
    "        return \"A-\"\n",
    "    elif score >= 75:\n",
    "        return \"B+\"\n",
    "    elif score >= 70:\n",
    "        return \"B\"\n",
    "    elif score >= 65:\n",
    "        return \"B\"\n",
    "    elif score >= 55:\n",
    "        return \"C\"\n",
    "    elif score >= 30:\n",
    "        return \"D\"\n",
    "    else:\n",
    "        return \"E\""
   ]
  },
  {
   "cell_type": "code",
   "execution_count": 11,
   "id": "e93bb10c",
   "metadata": {
    "ExecuteTime": {
     "end_time": "2022-03-06T07:59:04.325187Z",
     "start_time": "2022-03-06T07:59:04.321171Z"
    }
   },
   "outputs": [
    {
     "name": "stdout",
     "output_type": "stream",
     "text": [
      "Nilai student 1 adalah A-\n",
      "Nilai student 2 adalah B\n",
      "Nilai student 3 adalah D\n",
      "Nilai student 4 adalah A\n",
      "Nilai student 5 adalah B\n"
     ]
    }
   ],
   "source": [
    "student_scores = [80, 72, 34, 90, 66]\n",
    "for i, score in enumerate(student_scores):\n",
    "    grade = score_converter(score)\n",
    "    print(f\"Nilai student {i+1} adalah {grade}\")"
   ]
  }
 ],
 "metadata": {
  "kernelspec": {
   "display_name": "Python [conda env:root] *",
   "language": "python",
   "name": "conda-root-py"
  },
  "language_info": {
   "codemirror_mode": {
    "name": "ipython",
    "version": 3
   },
   "file_extension": ".py",
   "mimetype": "text/x-python",
   "name": "python",
   "nbconvert_exporter": "python",
   "pygments_lexer": "ipython3",
   "version": "3.7.13"
  }
 },
 "nbformat": 4,
 "nbformat_minor": 5
}
