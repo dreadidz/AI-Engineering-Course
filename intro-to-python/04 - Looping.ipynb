{
 "cells": [
  {
   "cell_type": "code",
   "execution_count": 1,
   "id": "d83c9a8d",
   "metadata": {
    "ExecuteTime": {
     "end_time": "2022-03-06T07:51:24.941526Z",
     "start_time": "2022-03-06T07:51:24.937800Z"
    }
   },
   "outputs": [
    {
     "name": "stdout",
     "output_type": "stream",
     "text": [
      "Saya tidak akan mengulangi kesalahan yang sama lagi\n",
      "Saya tidak akan mengulangi kesalahan yang sama lagi\n",
      "Saya tidak akan mengulangi kesalahan yang sama lagi\n",
      "Saya tidak akan mengulangi kesalahan yang sama lagi\n",
      "Saya tidak akan mengulangi kesalahan yang sama lagi\n",
      "Saya tidak akan mengulangi kesalahan yang sama lagi\n"
     ]
    }
   ],
   "source": [
    "print(\"Saya tidak akan mengulangi kesalahan yang sama lagi\")\n",
    "print(\"Saya tidak akan mengulangi kesalahan yang sama lagi\")\n",
    "print(\"Saya tidak akan mengulangi kesalahan yang sama lagi\")\n",
    "print(\"Saya tidak akan mengulangi kesalahan yang sama lagi\")\n",
    "print(\"Saya tidak akan mengulangi kesalahan yang sama lagi\")\n",
    "print(\"Saya tidak akan mengulangi kesalahan yang sama lagi\")"
   ]
  },
  {
   "cell_type": "markdown",
   "id": "14d69ebf",
   "metadata": {
    "ExecuteTime": {
     "end_time": "2022-03-06T07:56:26.385641Z",
     "start_time": "2022-03-06T07:56:26.382432Z"
    }
   },
   "source": [
    "Looping digunakan pada statement yang dilakukan secara **berulang-ulang**"
   ]
  },
  {
   "cell_type": "code",
   "execution_count": 2,
   "id": "72eec9c6",
   "metadata": {
    "ExecuteTime": {
     "end_time": "2022-03-06T07:54:09.277686Z",
     "start_time": "2022-03-06T07:54:09.274690Z"
    }
   },
   "outputs": [
    {
     "name": "stdout",
     "output_type": "stream",
     "text": [
      "Saya tidak akan mengulangi kesalahan yang sama lagi\n",
      "Saya tidak akan mengulangi kesalahan yang sama lagi\n",
      "Saya tidak akan mengulangi kesalahan yang sama lagi\n",
      "Saya tidak akan mengulangi kesalahan yang sama lagi\n",
      "Saya tidak akan mengulangi kesalahan yang sama lagi\n",
      "Saya tidak akan mengulangi kesalahan yang sama lagi\n",
      "Saya tidak akan mengulangi kesalahan yang sama lagi\n",
      "Saya tidak akan mengulangi kesalahan yang sama lagi\n",
      "Saya tidak akan mengulangi kesalahan yang sama lagi\n",
      "Saya tidak akan mengulangi kesalahan yang sama lagi\n"
     ]
    }
   ],
   "source": [
    "for i in range(10):\n",
    "    print(\"Saya tidak akan mengulangi kesalahan yang sama lagi\")"
   ]
  },
  {
   "cell_type": "code",
   "execution_count": 3,
   "id": "98036123",
   "metadata": {
    "ExecuteTime": {
     "end_time": "2022-03-06T07:54:43.389226Z",
     "start_time": "2022-03-06T07:54:43.386254Z"
    }
   },
   "outputs": [
    {
     "name": "stdout",
     "output_type": "stream",
     "text": [
      "Nilai i adalah 0\n",
      "Nilai i adalah 1\n",
      "Nilai i adalah 2\n",
      "Nilai i adalah 3\n",
      "Nilai i adalah 4\n",
      "Nilai i adalah 5\n",
      "Nilai i adalah 6\n",
      "Nilai i adalah 7\n",
      "Nilai i adalah 8\n",
      "Nilai i adalah 9\n"
     ]
    }
   ],
   "source": [
    "for i in range(10):\n",
    "    print(f\"Nilai i adalah {i}\")"
   ]
  },
  {
   "cell_type": "code",
   "execution_count": 4,
   "id": "918a223f",
   "metadata": {
    "ExecuteTime": {
     "end_time": "2022-03-06T07:55:13.639191Z",
     "start_time": "2022-03-06T07:55:13.636525Z"
    }
   },
   "outputs": [
    {
     "name": "stdout",
     "output_type": "stream",
     "text": [
      "cat\n",
      "dog\n",
      "fish\n"
     ]
    }
   ],
   "source": [
    "animals = [\"cat\", \"dog\", \"fish\"]\n",
    "for animal in animals:\n",
    "    print(animal)"
   ]
  },
  {
   "cell_type": "markdown",
   "id": "88bc4095",
   "metadata": {},
   "source": [
    "*Enumerate* dapat digunakan untuk mendapatkan nilai index dan value pada list"
   ]
  },
  {
   "cell_type": "code",
   "execution_count": 5,
   "id": "ed6aa06e",
   "metadata": {
    "ExecuteTime": {
     "end_time": "2022-03-06T07:55:42.839531Z",
     "start_time": "2022-03-06T07:55:42.836753Z"
    }
   },
   "outputs": [
    {
     "name": "stdout",
     "output_type": "stream",
     "text": [
      "1. cat\n",
      "2. dog\n",
      "3. fish\n"
     ]
    }
   ],
   "source": [
    "for i, animal in enumerate(animals):\n",
    "    print(f\"{i + 1}. {animal}\")"
   ]
  },
  {
   "cell_type": "code",
   "execution_count": 7,
   "id": "2d910370",
   "metadata": {
    "ExecuteTime": {
     "end_time": "2022-03-06T07:57:38.534368Z",
     "start_time": "2022-03-06T07:57:38.530936Z"
    }
   },
   "outputs": [],
   "source": [
    "def score_converter(score):\n",
    "    if score >= 85:\n",
    "        return \"A\"\n",
    "    elif score >= 80:\n",
    "        return \"A-\"\n",
    "    elif score >= 75:\n",
    "        return \"B+\"\n",
    "    elif score >= 70:\n",
    "        return \"B\"\n",
    "    elif score >= 65:\n",
    "        return \"B\"\n",
    "    elif score >= 55:\n",
    "        return \"C\"\n",
    "    elif score >= 30:\n",
    "        return \"D\"\n",
    "    else:\n",
    "        return \"E\""
   ]
  },
  {
   "cell_type": "code",
   "execution_count": 10,
   "id": "e93bb10c",
   "metadata": {
    "ExecuteTime": {
     "end_time": "2022-03-06T07:59:04.325187Z",
     "start_time": "2022-03-06T07:59:04.321171Z"
    }
   },
   "outputs": [
    {
     "name": "stdout",
     "output_type": "stream",
     "text": [
      "Nilai student 1 adalah A-\n",
      "Nilai student 2 adalah B\n",
      "Nilai student 3 adalah D\n",
      "Nilai student 4 adalah A\n",
      "Nilai student 5 adalah B\n"
     ]
    }
   ],
   "source": [
    "student_scores = [80, 72, 34, 90, 66]\n",
    "for i, score in enumerate(student_scores):\n",
    "    grade = score_converter(score)\n",
    "    print(f\"Nilai student {i+1} adalah {grade}\")"
   ]
  }
 ],
 "metadata": {
  "kernelspec": {
   "display_name": "Python [conda env:root] *",
   "language": "python",
   "name": "conda-root-py"
  },
  "language_info": {
   "codemirror_mode": {
    "name": "ipython",
    "version": 3
   },
   "file_extension": ".py",
   "mimetype": "text/x-python",
   "name": "python",
   "nbconvert_exporter": "python",
   "pygments_lexer": "ipython3",
   "version": "3.9.5"
  }
 },
 "nbformat": 4,
 "nbformat_minor": 5
}
