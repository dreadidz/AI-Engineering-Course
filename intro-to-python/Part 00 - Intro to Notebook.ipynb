{
 "cells": [
  {
   "cell_type": "markdown",
   "id": "0b86a7af-a159-44dd-baa6-e2c9ed4dda98",
   "metadata": {},
   "source": [
    "# Markdown\n",
    "\n",
    "1. \"#\" Untuk buat judul\n",
    "2. \"##\" untuk buat judul lebih kecil dari \"#\""
   ]
  },
  {
   "cell_type": "markdown",
   "id": "30b14b29-b580-49e0-9142-3edc6f06f063",
   "metadata": {},
   "source": [
    "# Hello Markdown"
   ]
  },
  {
   "cell_type": "markdown",
   "id": "f24076d7-db07-4de0-b856-f3ab79dab672",
   "metadata": {},
   "source": [
    "## Hello Markdown"
   ]
  },
  {
   "cell_type": "markdown",
   "id": "9780e74b-d4cf-4e12-b305-7c1fc239b79a",
   "metadata": {},
   "source": [
    "Command `esc` + `m` maka otomatis cell jadi markdown"
   ]
  },
  {
   "cell_type": "markdown",
   "id": "bf2d2eb5-3a80-4bd1-95c6-bd6cae59cd88",
   "metadata": {},
   "source": [
    "# Code\n",
    "\n",
    "Tempat kita coding python"
   ]
  },
  {
   "cell_type": "code",
   "execution_count": 2,
   "id": "801ed6fc-13ba-4d53-b22f-a36999aaaeed",
   "metadata": {},
   "outputs": [
    {
     "data": {
      "text/plain": [
       "20"
      ]
     },
     "execution_count": 2,
     "metadata": {},
     "output_type": "execute_result"
    }
   ],
   "source": [
    "10 + 10"
   ]
  },
  {
   "cell_type": "code",
   "execution_count": 3,
   "id": "dd709389-9915-436f-ae2e-80c86e7b737e",
   "metadata": {},
   "outputs": [],
   "source": [
    "a = 10"
   ]
  },
  {
   "cell_type": "markdown",
   "id": "c4cbd24a-661c-462b-a9f2-68dc3e55706e",
   "metadata": {},
   "source": [
    "# Shortcuts\n",
    "\n",
    "Didepannya harus diawali dengan `esc`\n",
    "\n",
    "`1` = heading 1<br>\n",
    "`2` = heading 2\n",
    "\n",
    "`shift + enter` = run cell lalu pindah ke bawah<br>\n",
    "`ctrl + enter` = run cell\n",
    "\n",
    "`a` = insert cell atas<br>\n",
    "`b` = insert cell bawah\n",
    "\n",
    "`m` = cell type markdown<br>\n",
    "`y` = cell type code\n",
    "\n",
    "`dd` = delete cell\n",
    "\n",
    "`h` = help<br>"
   ]
  },
  {
   "cell_type": "markdown",
   "id": "a51a4026-f2fa-45f2-991d-45681f05c13c",
   "metadata": {},
   "source": [
    "# Heading 1"
   ]
  },
  {
   "cell_type": "markdown",
   "id": "09e1a980-5998-4597-84b7-aec909c981e0",
   "metadata": {},
   "source": [
    "## Heading 2"
   ]
  },
  {
   "cell_type": "code",
   "execution_count": null,
   "id": "6bc709b6-3cf7-4dae-9339-6fb2e4795616",
   "metadata": {},
   "outputs": [],
   "source": []
  }
 ],
 "metadata": {
  "kernelspec": {
   "display_name": "Python 3 (ipykernel)",
   "language": "python",
   "name": "python3"
  },
  "language_info": {
   "codemirror_mode": {
    "name": "ipython",
    "version": 3
   },
   "file_extension": ".py",
   "mimetype": "text/x-python",
   "name": "python",
   "nbconvert_exporter": "python",
   "pygments_lexer": "ipython3",
   "version": "3.7.13"
  }
 },
 "nbformat": 4,
 "nbformat_minor": 5
}
