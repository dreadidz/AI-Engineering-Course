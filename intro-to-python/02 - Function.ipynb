{
 "cells": [
  {
   "cell_type": "markdown",
   "id": "97541e4c",
   "metadata": {},
   "source": [
    "# Built in Function\n",
    "\n",
    "Fungsi yang sudah disediakan oleh bahasa pemrograman tersebut"
   ]
  },
  {
   "cell_type": "code",
   "execution_count": 7,
   "id": "ca14f21c",
   "metadata": {
    "ExecuteTime": {
     "end_time": "2022-03-06T06:50:37.874920Z",
     "start_time": "2022-03-06T06:50:37.870934Z"
    }
   },
   "outputs": [
    {
     "data": {
      "text/plain": [
       "(14, 4, 27)"
      ]
     },
     "execution_count": 7,
     "metadata": {},
     "output_type": "execute_result"
    }
   ],
   "source": [
    "numbers = [3, 2, 4, 5]\n",
    "sum(numbers), len(numbers), pow(3, 3)"
   ]
  },
  {
   "cell_type": "code",
   "execution_count": 2,
   "id": "663ce664",
   "metadata": {
    "ExecuteTime": {
     "end_time": "2022-03-06T06:48:13.954690Z",
     "start_time": "2022-03-06T06:48:13.950732Z"
    }
   },
   "outputs": [
    {
     "data": {
      "text/plain": [
       "'HARI INI SAYA PERGI KE PASAR'"
      ]
     },
     "execution_count": 2,
     "metadata": {},
     "output_type": "execute_result"
    }
   ],
   "source": [
    "name = \"hari ini saya pergi ke pasar\"\n",
    "name.upper()"
   ]
  },
  {
   "cell_type": "markdown",
   "id": "eafa9e5c",
   "metadata": {},
   "source": [
    "# Create New Function"
   ]
  },
  {
   "cell_type": "code",
   "execution_count": 14,
   "id": "8d825949",
   "metadata": {
    "ExecuteTime": {
     "end_time": "2022-03-06T06:54:13.384107Z",
     "start_time": "2022-03-06T06:54:13.381716Z"
    }
   },
   "outputs": [],
   "source": [
    "def function_name(function_parameter): # Define function\n",
    "    # function code\n",
    "    return # function result\n",
    "\n",
    "function_name(\"parameter\") # Calling function"
   ]
  },
  {
   "cell_type": "code",
   "execution_count": 17,
   "id": "ea33b277",
   "metadata": {
    "ExecuteTime": {
     "end_time": "2022-03-06T07:47:05.423302Z",
     "start_time": "2022-03-06T07:47:05.419109Z"
    }
   },
   "outputs": [
    {
     "data": {
      "text/plain": [
       "2.5"
      ]
     },
     "execution_count": 17,
     "metadata": {},
     "output_type": "execute_result"
    }
   ],
   "source": [
    "def calculate_mean(numbers):\n",
    "    total_numbers = len(numbers)\n",
    "    sum_numbers = sum(numbers)\n",
    "    return sum_numbers / total_numbers\n",
    "\n",
    "mean_score = calculate_mean([1, 2, 3, 4])\n",
    "mean_score"
   ]
  },
  {
   "cell_type": "markdown",
   "id": "4338a35c",
   "metadata": {},
   "source": [
    "# Lambda Function"
   ]
  },
  {
   "cell_type": "code",
   "execution_count": 18,
   "id": "0d60c7c4",
   "metadata": {
    "ExecuteTime": {
     "end_time": "2022-03-06T07:47:10.902301Z",
     "start_time": "2022-03-06T07:47:10.898447Z"
    }
   },
   "outputs": [
    {
     "data": {
      "text/plain": [
       "2.5"
      ]
     },
     "execution_count": 18,
     "metadata": {},
     "output_type": "execute_result"
    }
   ],
   "source": [
    "calculate_mean = lambda numbers: sum(numbers) / len(numbers)\n",
    "mean_score = calculate_mean([1, 2, 3, 4])\n",
    "mean_score"
   ]
  }
 ],
 "metadata": {
  "kernelspec": {
   "display_name": "Python [conda env:root] *",
   "language": "python",
   "name": "conda-root-py"
  },
  "language_info": {
   "codemirror_mode": {
    "name": "ipython",
    "version": 3
   },
   "file_extension": ".py",
   "mimetype": "text/x-python",
   "name": "python",
   "nbconvert_exporter": "python",
   "pygments_lexer": "ipython3",
   "version": "3.9.5"
  }
 },
 "nbformat": 4,
 "nbformat_minor": 5
}
