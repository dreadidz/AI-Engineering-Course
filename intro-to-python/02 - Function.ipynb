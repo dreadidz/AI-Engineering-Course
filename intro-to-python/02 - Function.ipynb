{
 "cells": [
  {
   "cell_type": "markdown",
   "id": "97541e4c",
   "metadata": {},
   "source": [
    "# Built in Function\n",
    "\n",
    "Fungsi yang sudah disediakan oleh bahasa pemrograman tersebut"
   ]
  },
  {
   "cell_type": "code",
   "execution_count": 5,
   "id": "ca14f21c",
   "metadata": {
    "ExecuteTime": {
     "end_time": "2022-03-06T06:50:37.874920Z",
     "start_time": "2022-03-06T06:50:37.870934Z"
    }
   },
   "outputs": [
    {
     "data": {
      "text/plain": [
       "(14, 4, 27)"
      ]
     },
     "execution_count": 5,
     "metadata": {},
     "output_type": "execute_result"
    }
   ],
   "source": [
    "numbers = [3, 2, 4, 5]\n",
    "sum(numbers), len(numbers), pow(3, 3)"
   ]
  },
  {
   "cell_type": "code",
   "execution_count": 18,
   "id": "4ffef446-cd06-4be9-80e2-aaf34f0ae55c",
   "metadata": {},
   "outputs": [
    {
     "data": {
      "text/plain": [
       "6"
      ]
     },
     "execution_count": 18,
     "metadata": {},
     "output_type": "execute_result"
    }
   ],
   "source": [
    "# function itu punya input dan output\n",
    "sum([1, 2, 3])"
   ]
  },
  {
   "cell_type": "code",
   "execution_count": 19,
   "id": "663ce664",
   "metadata": {
    "ExecuteTime": {
     "end_time": "2022-03-06T06:48:13.954690Z",
     "start_time": "2022-03-06T06:48:13.950732Z"
    }
   },
   "outputs": [
    {
     "data": {
      "text/plain": [
       "'HARI INI SAYA PERGI KE PASAR'"
      ]
     },
     "execution_count": 19,
     "metadata": {},
     "output_type": "execute_result"
    }
   ],
   "source": [
    "name = \"hari ini saya pergi ke pasar\"\n",
    "name.upper()"
   ]
  },
  {
   "cell_type": "markdown",
   "id": "eafa9e5c",
   "metadata": {},
   "source": [
    "# Create New Function"
   ]
  },
  {
   "cell_type": "code",
   "execution_count": 14,
   "id": "8d825949",
   "metadata": {
    "ExecuteTime": {
     "end_time": "2022-03-06T06:54:13.384107Z",
     "start_time": "2022-03-06T06:54:13.381716Z"
    }
   },
   "outputs": [],
   "source": [
    "# Input dan output\n",
    "\n",
    "def function_name(function_parameter): # Define function\n",
    "    # function code\n",
    "    return # function result\n",
    "\n",
    "function_name(\"parameter\") # Calling function"
   ]
  },
  {
   "cell_type": "code",
   "execution_count": 20,
   "id": "ea33b277",
   "metadata": {
    "ExecuteTime": {
     "end_time": "2022-03-06T07:47:05.423302Z",
     "start_time": "2022-03-06T07:47:05.419109Z"
    }
   },
   "outputs": [
    {
     "data": {
      "text/plain": [
       "2.5"
      ]
     },
     "execution_count": 20,
     "metadata": {},
     "output_type": "execute_result"
    }
   ],
   "source": [
    "def calculate_mean(numbers):\n",
    "    total_numbers = len(numbers)\n",
    "    sum_numbers = sum(numbers)\n",
    "    return sum_numbers / total_numbers\n",
    "\n",
    "mean_score = calculate_mean([1, 2, 3, 4])\n",
    "mean_score"
   ]
  },
  {
   "cell_type": "code",
   "execution_count": 22,
   "id": "ed5537cc-4150-4520-8afe-3d4c0b6ea3c3",
   "metadata": {},
   "outputs": [
    {
     "data": {
      "text/plain": [
       "77.5"
      ]
     },
     "execution_count": 22,
     "metadata": {},
     "output_type": "execute_result"
    }
   ],
   "source": [
    "student1 = [90, 80, 80, 60]\n",
    "calculate_mean(student1)"
   ]
  },
  {
   "cell_type": "code",
   "execution_count": 23,
   "id": "5fb9b6a2-fa95-4ead-a130-d885a285c9ca",
   "metadata": {},
   "outputs": [
    {
     "data": {
      "text/plain": [
       "63.75"
      ]
     },
     "execution_count": 23,
     "metadata": {},
     "output_type": "execute_result"
    }
   ],
   "source": [
    "student2 = [65, 50, 80, 60]\n",
    "calculate_mean(student2)"
   ]
  },
  {
   "cell_type": "code",
   "execution_count": 24,
   "id": "55607306-e1d8-48ad-b04c-bb56ac31cf49",
   "metadata": {},
   "outputs": [
    {
     "data": {
      "text/plain": [
       "19"
      ]
     },
     "execution_count": 24,
     "metadata": {},
     "output_type": "execute_result"
    }
   ],
   "source": [
    "numbers = [1, 3, 5, 7, 9]\n",
    "# Un = a + (n-1)b -> a adalah yang pertama dan b adalah beda\n",
    "# def mencari_deret(numbers):\n",
    "    # return \n",
    "a = numbers[0]\n",
    "b = numbers[1] - numbers[0]\n",
    "n = 10\n",
    "Un = a + (n-1) * b\n",
    "Un"
   ]
  },
  {
   "cell_type": "code",
   "execution_count": 25,
   "id": "d72696fd-1892-4de2-95e7-bedcef3b437b",
   "metadata": {},
   "outputs": [
    {
     "data": {
      "text/plain": [
       "100"
      ]
     },
     "execution_count": 25,
     "metadata": {},
     "output_type": "execute_result"
    }
   ],
   "source": [
    "def mencari_deret(numbers, n):\n",
    "    a = numbers[0]\n",
    "    b = numbers[1] - numbers[0]\n",
    "    # n = 10 -> karena kita ambil dari input / parameter\n",
    "    Un = a + (n-1) * b\n",
    "    return Un\n",
    "\n",
    "mencari_deret([1, 2, 3, 4], 100)"
   ]
  },
  {
   "cell_type": "code",
   "execution_count": 26,
   "id": "a69afd1e-da86-4933-a5b6-61be98d8a5a1",
   "metadata": {},
   "outputs": [
    {
     "data": {
      "text/plain": [
       "37"
      ]
     },
     "execution_count": 26,
     "metadata": {},
     "output_type": "execute_result"
    }
   ],
   "source": [
    "mencari_deret([1, 5, 9, 13], 10)"
   ]
  },
  {
   "cell_type": "code",
   "execution_count": 27,
   "id": "35ff1842-acce-420d-a3fe-4cbe82856a25",
   "metadata": {},
   "outputs": [
    {
     "data": {
      "text/plain": [
       "10"
      ]
     },
     "execution_count": 27,
     "metadata": {},
     "output_type": "execute_result"
    }
   ],
   "source": [
    "def mencari_deret(numbers, n=10):\n",
    "    a = numbers[0]\n",
    "    b = numbers[1] - numbers[0]\n",
    "    # n = 10 -> karena kita ambil dari input / parameter\n",
    "    Un = a + (n-1) * b\n",
    "    return Un\n",
    "\n",
    "mencari_deret([1, 2, 3, 4])"
   ]
  },
  {
   "cell_type": "code",
   "execution_count": 28,
   "id": "8351272b-6cc3-42a1-9d66-1c9195bc4e1d",
   "metadata": {},
   "outputs": [
    {
     "data": {
      "text/plain": [
       "15"
      ]
     },
     "execution_count": 28,
     "metadata": {},
     "output_type": "execute_result"
    }
   ],
   "source": [
    "mencari_deret([1, 2, 3, 4], 15)"
   ]
  },
  {
   "cell_type": "code",
   "execution_count": 29,
   "id": "0dd23dc3-4d8a-48ff-bd15-f915be021061",
   "metadata": {},
   "outputs": [
    {
     "data": {
      "text/plain": [
       "2991"
      ]
     },
     "execution_count": 29,
     "metadata": {},
     "output_type": "execute_result"
    }
   ],
   "source": [
    "soal_deret = [1, 11, 21, 31, 41]\n",
    "mencari_deret(soal_deret, 300)"
   ]
  },
  {
   "cell_type": "code",
   "execution_count": 31,
   "id": "2fe37bae-d47a-4b75-8ef5-7bbda274d9e9",
   "metadata": {},
   "outputs": [
    {
     "data": {
      "text/plain": [
       "55.0"
      ]
     },
     "execution_count": 31,
     "metadata": {},
     "output_type": "execute_result"
    }
   ],
   "source": [
    "def mencari_jumlah_deret(numbers, n):\n",
    "    a = numbers[0]\n",
    "    b = numbers[1] - numbers[0]\n",
    "    Sn = n / 2 * (2 * a + (n - 1) * b)\n",
    "  \n",
    "    return Sn\n",
    "\n",
    "mencari_jumlah_deret([1, 2, 3, 4], 10)"
   ]
  },
  {
   "cell_type": "markdown",
   "id": "4338a35c",
   "metadata": {},
   "source": [
    "# Lambda Function\n",
    "\n",
    "Secara hasil sama tapi cara buat sama"
   ]
  },
  {
   "cell_type": "code",
   "execution_count": 32,
   "id": "0d60c7c4",
   "metadata": {
    "ExecuteTime": {
     "end_time": "2022-03-06T07:47:10.902301Z",
     "start_time": "2022-03-06T07:47:10.898447Z"
    }
   },
   "outputs": [
    {
     "data": {
      "text/plain": [
       "2.5"
      ]
     },
     "execution_count": 32,
     "metadata": {},
     "output_type": "execute_result"
    }
   ],
   "source": [
    "calculate_mean = lambda numbers: sum(numbers) / len(numbers)\n",
    "mean_score = calculate_mean([1, 2, 3, 4])\n",
    "mean_score"
   ]
  },
  {
   "cell_type": "code",
   "execution_count": 33,
   "id": "ef0f1925-dbf7-419e-bde8-85d9f4ea99da",
   "metadata": {},
   "outputs": [
    {
     "data": {
      "text/plain": [
       "10"
      ]
     },
     "execution_count": 33,
     "metadata": {},
     "output_type": "execute_result"
    }
   ],
   "source": [
    "def mencari_deret(numbers, n=10):\n",
    "    a = numbers[0]\n",
    "    b = numbers[1] - numbers[0]\n",
    "    # n = 10 -> karena kita ambil dari input / parameter\n",
    "    Un = a + (n-1) * b\n",
    "    return Un\n",
    "\n",
    "mencari_deret([1, 2, 3, 4])"
   ]
  },
  {
   "cell_type": "code",
   "execution_count": 34,
   "id": "aa174a91-c744-4c57-822d-832da7f6778f",
   "metadata": {},
   "outputs": [],
   "source": [
    "mencari_deret = lambda numbers, n: numbers[0] + (n-1) * (numbers[1] - numbers[0])"
   ]
  },
  {
   "cell_type": "code",
   "execution_count": 36,
   "id": "11d68c60-cfb8-4bb7-9795-188fdac8388b",
   "metadata": {},
   "outputs": [
    {
     "data": {
      "text/plain": [
       "30"
      ]
     },
     "execution_count": 36,
     "metadata": {},
     "output_type": "execute_result"
    }
   ],
   "source": [
    "mencari_deret([1, 2, 3, 4], 30)"
   ]
  },
  {
   "cell_type": "markdown",
   "id": "2799c9ad-5ba2-4d67-9968-649a0fa14dcc",
   "metadata": {},
   "source": [
    "# Modular Function"
   ]
  },
  {
   "cell_type": "code",
   "execution_count": 39,
   "id": "d00e1184-8d03-42fa-9f38-7b96d2c5f544",
   "metadata": {},
   "outputs": [
    {
     "data": {
      "text/plain": [
       "31.5"
      ]
     },
     "execution_count": 39,
     "metadata": {},
     "output_type": "execute_result"
    }
   ],
   "source": [
    "# Sn = a/2 + (a+Un)\n",
    "# Un = a + (n-1) * b\n",
    "mencari_un = lambda numbers, n: numbers[0] + (n-1) * (numbers[1] - numbers[0])\n",
    "def mencari_sn(numbers, n):\n",
    "    a = numbers[0]\n",
    "    Un = mencari_un(numbers, n) # kita bisa panggil yang udah kita buat\n",
    "    return a/2 + (a + Un)\n",
    "mencari_sn([1, 2, 3, 4], 30)"
   ]
  },
  {
   "cell_type": "markdown",
   "id": "b4e25039-dcd4-4879-ba64-c375b2aad48a",
   "metadata": {},
   "source": [
    "- integer = 1, 2, 3 -> berhubungan dengan angka\n",
    "- string = \"asdas\" -> mulai dari titik 2\n",
    "- list = [1, 2] -> pake kurung siku\n",
    "     - Cara akses list -> dia pake kurung siku contoh numbers[0]\n",
    "- dict = {\"name\": \"Rama\"} -> pake kurang kurawal\n",
    "     - Cara akses dict -> dia pake kurung siku contoh numbers[\"name\"]\n",
    "- func = () -> pake kurang bulat"
   ]
  },
  {
   "cell_type": "code",
   "execution_count": 46,
   "id": "5bee7c6c-a419-4c24-bfd5-7acd40fad06a",
   "metadata": {},
   "outputs": [],
   "source": [
    "def my_func(params: list):\n",
    "    \"\"\"\n",
    "    Objective: untuk mencari rata-rata\n",
    "    Input:\n",
    "        1. params: list -> list of integer numbers\n",
    "    return:\n",
    "        result of mean numbers: int\n",
    "    \"\"\"\n",
    "    return "
   ]
  },
  {
   "cell_type": "code",
   "execution_count": 47,
   "id": "8c85b87c-392f-48d8-af5d-d41ae0eb8315",
   "metadata": {},
   "outputs": [],
   "source": [
    "my_func([1, 2, 3, 4])"
   ]
  },
  {
   "cell_type": "code",
   "execution_count": 44,
   "id": "93b46073-274a-490f-b339-456d10ae161f",
   "metadata": {},
   "outputs": [
    {
     "ename": "TypeError",
     "evalue": "'int' object is not iterable",
     "output_type": "error",
     "traceback": [
      "\u001b[0;31m---------------------------------------------------------------------------\u001b[0m",
      "\u001b[0;31mTypeError\u001b[0m                                 Traceback (most recent call last)",
      "\u001b[0;32m/var/folders/4p/3v_v0g1d7tz0t37qxn7gh8qw0000gn/T/ipykernel_2604/1963210918.py\u001b[0m in \u001b[0;36m<module>\u001b[0;34m\u001b[0m\n\u001b[0;32m----> 1\u001b[0;31m \u001b[0msum\u001b[0m\u001b[0;34m(\u001b[0m\u001b[0;36m1\u001b[0m\u001b[0;34m)\u001b[0m\u001b[0;34m\u001b[0m\u001b[0;34m\u001b[0m\u001b[0m\n\u001b[0m",
      "\u001b[0;31mTypeError\u001b[0m: 'int' object is not iterable"
     ]
    }
   ],
   "source": [
    "sum(1)"
   ]
  },
  {
   "cell_type": "code",
   "execution_count": 45,
   "id": "aebc983e-852f-4988-a96c-26a0baf80e1e",
   "metadata": {},
   "outputs": [
    {
     "ename": "TypeError",
     "evalue": "unsupported operand type(s) for +: 'int' and 'str'",
     "output_type": "error",
     "traceback": [
      "\u001b[0;31m---------------------------------------------------------------------------\u001b[0m",
      "\u001b[0;31mTypeError\u001b[0m                                 Traceback (most recent call last)",
      "\u001b[0;32m/var/folders/4p/3v_v0g1d7tz0t37qxn7gh8qw0000gn/T/ipykernel_2604/313732982.py\u001b[0m in \u001b[0;36m<module>\u001b[0;34m\u001b[0m\n\u001b[0;32m----> 1\u001b[0;31m \u001b[0msum\u001b[0m\u001b[0;34m(\u001b[0m\u001b[0;34m\"1\"\u001b[0m\u001b[0;34m)\u001b[0m\u001b[0;34m\u001b[0m\u001b[0;34m\u001b[0m\u001b[0m\n\u001b[0m",
      "\u001b[0;31mTypeError\u001b[0m: unsupported operand type(s) for +: 'int' and 'str'"
     ]
    }
   ],
   "source": [
    "sum(\"1\")"
   ]
  },
  {
   "cell_type": "code",
   "execution_count": null,
   "id": "355afc29-be36-4f52-9cb5-f9429a625b15",
   "metadata": {},
   "outputs": [],
   "source": []
  }
 ],
 "metadata": {
  "kernelspec": {
   "display_name": "Python [conda env:root] *",
   "language": "python",
   "name": "conda-root-py"
  },
  "language_info": {
   "codemirror_mode": {
    "name": "ipython",
    "version": 3
   },
   "file_extension": ".py",
   "mimetype": "text/x-python",
   "name": "python",
   "nbconvert_exporter": "python",
   "pygments_lexer": "ipython3",
   "version": "3.7.13"
  }
 },
 "nbformat": 4,
 "nbformat_minor": 5
}
