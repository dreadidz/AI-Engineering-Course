{
 "cells": [
  {
   "cell_type": "markdown",
   "id": "167d7d4a-d7aa-4deb-bd30-3248cf11f1aa",
   "metadata": {},
   "source": [
    "# Exercise 1\n",
    "\n",
    "Mencari trimmed mean pada list angka. Trimmed mean adalah nilai rata-rata yang sudah dipotong.\n",
    "Contoh:\n",
    "    1. `[1, 2, 3, 4, 10]` -> maka apabila dirata2 `(1 + 2 + 3 + 4 + 10)` / `5`\n",
    "    2. Apabila ditambahkan parameter `trim=1` maka list bagian depan dan belakang akan dipotong sebanyak `1` sehingga menjadi `[2, 3, 4]` -> maka apabila dirata2 `(2 + 3 + 4)` / `3`\n",
    "    \n",
    "Hint: \n",
    "1. Gunakan konsep slicing `[startIndex:endIndex]` sebelum dirata2kan"
   ]
  },
  {
   "cell_type": "code",
   "execution_count": 45,
   "id": "5f178c04-2e3d-40fb-8fad-2087bb76abc3",
   "metadata": {},
   "outputs": [
    {
     "name": "stdout",
     "output_type": "stream",
     "text": [
      "None\n",
      "None\n",
      "None\n"
     ]
    }
   ],
   "source": [
    "def trimmed_mean(numbers, trim=0):\n",
    "    # Your code below here\n",
    "    return \n",
    "\n",
    "print(trimmed_mean([1, 2, 3, 4, 10])) # 4.0\n",
    "print(trimmed_mean([1, 2, 3, 4, 10], 1)) # 3.0 (potong 1 nilai pertama dan terakhir)\n",
    "print(trimmed_mean([1, 2, 3, 4, 4, 4, 4, 4, 10], 2)) # 3.8 (potong 2 nilai pertama dan terakhir)"
   ]
  },
  {
   "cell_type": "markdown",
   "id": "66825753-8dcd-49f2-9160-3096bb302c5d",
   "metadata": {},
   "source": [
    "# Exercise 2\n",
    "\n",
    "Objektif: mencari nilai mediandst pada list numbers yang berjumlah **ganjil**\n",
    "\n",
    "Contoh:\n",
    "1. `[1, 2, 3, 4, 5]` -> median = 3 Karena median merupakan nilai tengah. Didapat dengan membagi `len(numbers) * 0.5` kemudian dibulatkan dengan menggunakan fungsi `round` \n"
   ]
  },
  {
   "cell_type": "code",
   "execution_count": 46,
   "id": "5af74c3c-efb4-4289-8ce0-435f2b0d004e",
   "metadata": {},
   "outputs": [
    {
     "data": {
      "text/plain": [
       "1"
      ]
     },
     "execution_count": 46,
     "metadata": {},
     "output_type": "execute_result"
    }
   ],
   "source": [
    "# contoh fungsi round\n",
    "round(0.75)"
   ]
  },
  {
   "cell_type": "code",
   "execution_count": 47,
   "id": "7c7d7685-0ee2-4fcd-94ae-618ae53ec462",
   "metadata": {},
   "outputs": [
    {
     "name": "stdout",
     "output_type": "stream",
     "text": [
      "None\n",
      "None\n"
     ]
    }
   ],
   "source": [
    "# mencari median pada list numbers yang ganjil\n",
    "def mencari_median(numbers):\n",
    "    # Your code below here\n",
    "    return \n",
    "\n",
    "print(mencari_median([1, 2, 3, 4, 5])) # 3\n",
    "print(mencari_median([3, 4, 9, 10, 10])) # 9"
   ]
  },
  {
   "cell_type": "markdown",
   "id": "c61913b7-0710-481f-9902-1d08a08c88da",
   "metadata": {},
   "source": [
    "# Exercise 3\n",
    "\n",
    "Menghitung jumlah barang yang terjual.\n",
    "\n",
    "Terdapat data penjualandari week1 dan week4. Hitung ada berapa banyak barang yang dipilih yang terjual dari week1 sampai week4.\n",
    "\n",
    "**Hint**\n",
    "1. Silahkan gunakan `.count()`"
   ]
  },
  {
   "cell_type": "code",
   "execution_count": 58,
   "id": "9ce08957-c0bc-43ff-8a42-abca74e27c14",
   "metadata": {},
   "outputs": [
    {
     "data": {
      "text/plain": [
       "2"
      ]
     },
     "execution_count": 58,
     "metadata": {},
     "output_type": "execute_result"
    }
   ],
   "source": [
    "# contoh penggunaan count\n",
    "\n",
    "animals = [\"cat\", \"dog\", \"cat\", \"dog\", \"fish\"]\n",
    "select_animal = \"dog\"\n",
    "animals.count(select_animal)"
   ]
  },
  {
   "cell_type": "code",
   "execution_count": 51,
   "id": "30479f78-179d-447d-8825-96fb9d0d058e",
   "metadata": {},
   "outputs": [],
   "source": [
    "data = {\n",
    "    \"week1\": [\"pc\", \"laptop\", \"pc\", \"pc\", \"mouse\"],\n",
    "    \"week2\": [\"pc\", \"pc\", \"mouse\"],\n",
    "    \"week3\": [\"keyboard\", \"pc\", \"pc\", \"mouse\"],\n",
    "    \"week4\": [\"pc\", \"laptop\", \"pc\", \"keyboard\", \"mouse\"]\n",
    "}"
   ]
  },
  {
   "cell_type": "code",
   "execution_count": 62,
   "id": "9482404e-60e1-48eb-a2dc-a3f323976c74",
   "metadata": {},
   "outputs": [
    {
     "name": "stdout",
     "output_type": "stream",
     "text": [
      "None\n",
      "None\n",
      "None\n",
      "None\n"
     ]
    }
   ],
   "source": [
    "def summary_report(data, product):\n",
    "\n",
    "    return \n",
    "\n",
    "print(summary_report(data, \"pc\")) # 9\n",
    "print(summary_report(data, \"mouse\")) # 4\n",
    "print(summary_report(data, \"keyboard\")) # 2\n",
    "print(summary_report(data, \"pc\")) # 9"
   ]
  }
 ],
 "metadata": {
  "kernelspec": {
   "display_name": "Python 3 (ipykernel)",
   "language": "python",
   "name": "python3"
  },
  "language_info": {
   "codemirror_mode": {
    "name": "ipython",
    "version": 3
   },
   "file_extension": ".py",
   "mimetype": "text/x-python",
   "name": "python",
   "nbconvert_exporter": "python",
   "pygments_lexer": "ipython3",
   "version": "3.7.13"
  }
 },
 "nbformat": 4,
 "nbformat_minor": 5
}
