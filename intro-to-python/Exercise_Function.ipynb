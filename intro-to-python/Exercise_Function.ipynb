{
 "cells": [
  {
   "cell_type": "markdown",
   "id": "167d7d4a-d7aa-4deb-bd30-3248cf11f1aa",
   "metadata": {},
   "source": [
    "# Exercise 1\n",
    "\n",
    "Mencari trimmed mean pada list angka. Trimmed mean adalah nilai rata-rata yang sudah dipotong.\n",
    "Contoh:\n",
    "    1. `[1, 2, 3, 4, 10]` -> maka apabila dirata2 `(1 + 2 + 3 + 4 + 10)` / `5`\n",
    "    2. Apabila ditambahkan parameter `trim=1` maka list bagian depan dan belakang akan dipotong sebanyak `1` sehingga menjadi `[2, 3, 4]` -> maka apabila dirata2 `(2 + 3 + 4)` / `3`\n",
    "    \n",
    "Hint: \n",
    "1. Gunakan konsep slicing `[startIndex:endIndex]` sebelum dirata2kan"
   ]
  },
  {
   "cell_type": "code",
   "execution_count": 7,
   "id": "5f178c04-2e3d-40fb-8fad-2087bb76abc3",
   "metadata": {},
   "outputs": [
    {
     "name": "stdout",
     "output_type": "stream",
     "text": [
      "4.0\n",
      "3.0\n",
      "3.8\n"
     ]
    }
   ],
   "source": [
    "def trimmed_mean(numbers, trim=0):\n",
    "    # Your code below here\n",
    "    \n",
    "    # slicing list: memotong berdasarkan parameter trim\n",
    "    numbers = numbers[0+trim:len(numbers)- trim]\n",
    "    return sum(numbers) / len(numbers)\n",
    "\n",
    "print(trimmed_mean([1, 2, 3, 4, 10])) # 4.0\n",
    "print(trimmed_mean([1, 2, 3, 4, 10], 1)) # 3.0 (potong 1 nilai pertama dan terakhir)\n",
    "print(trimmed_mean([1, 2, 3, 4, 4, 4, 4, 4, 10], 2)) # 3.8 (potong 2 nilai pertama dan terakhir)"
   ]
  },
  {
   "cell_type": "markdown",
   "id": "66825753-8dcd-49f2-9160-3096bb302c5d",
   "metadata": {},
   "source": [
    "# Exercise 2\n",
    "\n",
    "Objektif: mencari nilai mediandst pada list numbers yang berjumlah **ganjil**\n",
    "\n",
    "Contoh:\n",
    "1. `[1, 2, 3, 4, 5]` -> median = 3 Karena median merupakan nilai tengah. Didapat dengan membagi `len(numbers) * 0.5` kemudian dibulatkan dengan menggunakan fungsi `round` \n"
   ]
  },
  {
   "cell_type": "code",
   "execution_count": 46,
   "id": "5af74c3c-efb4-4289-8ce0-435f2b0d004e",
   "metadata": {},
   "outputs": [
    {
     "data": {
      "text/plain": [
       "1"
      ]
     },
     "execution_count": 46,
     "metadata": {},
     "output_type": "execute_result"
    }
   ],
   "source": [
    "# contoh fungsi round\n",
    "round(0.75)"
   ]
  },
  {
   "cell_type": "code",
   "execution_count": 8,
   "id": "7c7d7685-0ee2-4fcd-94ae-618ae53ec462",
   "metadata": {},
   "outputs": [
    {
     "name": "stdout",
     "output_type": "stream",
     "text": [
      "3\n",
      "9\n"
     ]
    }
   ],
   "source": [
    "# mencari median pada list numbers yang ganjil\n",
    "def mencari_median(numbers):\n",
    "    # Your code below here\n",
    "    median_idx = round(len(numbers) / 2)\n",
    "    return numbers[median_idx]\n",
    "\n",
    "print(mencari_median([1, 2, 3, 4, 5])) # 3\n",
    "print(mencari_median([3, 4, 9, 10, 10])) # 9"
   ]
  },
  {
   "cell_type": "markdown",
   "id": "c61913b7-0710-481f-9902-1d08a08c88da",
   "metadata": {},
   "source": [
    "# Exercise 3\n",
    "\n",
    "Menghitung jumlah barang yang terjual.\n",
    "\n",
    "Terdapat data penjualandari week1 dan week4. Hitung ada berapa banyak barang yang dipilih yang terjual dari week1 sampai week4.\n",
    "\n",
    "**Hint**\n",
    "1. Silahkan gunakan `.count()`"
   ]
  },
  {
   "cell_type": "code",
   "execution_count": 58,
   "id": "9ce08957-c0bc-43ff-8a42-abca74e27c14",
   "metadata": {},
   "outputs": [
    {
     "data": {
      "text/plain": [
       "2"
      ]
     },
     "execution_count": 58,
     "metadata": {},
     "output_type": "execute_result"
    }
   ],
   "source": [
    "# contoh penggunaan count\n",
    "\n",
    "animals = [\"cat\", \"dog\", \"cat\", \"dog\", \"fish\"]\n",
    "select_animal = \"dog\"\n",
    "animals.count(select_animal)"
   ]
  },
  {
   "cell_type": "code",
   "execution_count": 10,
   "id": "30479f78-179d-447d-8825-96fb9d0d058e",
   "metadata": {},
   "outputs": [],
   "source": [
    "data = {\n",
    "    \"week1\": [\"pc\", \"laptop\", \"pc\", \"pc\", \"mouse\"],\n",
    "    \"week2\": [\"pc\", \"pc\", \"mouse\"],\n",
    "    \"week3\": [\"keyboard\", \"pc\", \"pc\", \"mouse\"],\n",
    "    \"week4\": [\"pc\", \"laptop\", \"pc\", \"keyboard\", \"mouse\"]\n",
    "}"
   ]
  },
  {
   "cell_type": "code",
   "execution_count": 11,
   "id": "9482404e-60e1-48eb-a2dc-a3f323976c74",
   "metadata": {},
   "outputs": [
    {
     "name": "stdout",
     "output_type": "stream",
     "text": [
      "9\n",
      "4\n",
      "2\n",
      "9\n"
     ]
    }
   ],
   "source": [
    "def summary_report(data, product):\n",
    "    week1_total = data[\"week1\"].count(product)\n",
    "    week2_total = data[\"week2\"].count(product)\n",
    "    week3_total = data[\"week3\"].count(product)\n",
    "    week4_total = data[\"week4\"].count(product)\n",
    "\n",
    "    return week1_total + week2_total + week3_total + week4_total\n",
    "\n",
    "print(summary_report(data, \"pc\")) # 9\n",
    "print(summary_report(data, \"mouse\")) # 4\n",
    "print(summary_report(data, \"keyboard\")) # 2\n",
    "print(summary_report(data, \"pc\")) # 9"
   ]
  },
  {
   "cell_type": "markdown",
   "id": "64c2a138-3453-4eac-89e7-af43c803b1e1",
   "metadata": {},
   "source": [
    "# Exercise 4\n",
    "\n",
    "Menghitung jumlah barang yang terjual menggunakan looping.\n",
    "\n",
    "Terdapat data penjualan dari data tertentu. Hitung ada berapa banyak barang yang dipilih yang terjual.\n",
    "\n",
    "Hint\n",
    "\n",
    "Silahkan gunakan `for loop` pada `dict` dan `.count()`. Dan gunakan nilai tampung saat melakukan `loop`"
   ]
  },
  {
   "cell_type": "code",
   "execution_count": 21,
   "id": "9dba1680-5f05-4bc2-b35b-e1d9dbf5b1be",
   "metadata": {},
   "outputs": [
    {
     "name": "stdout",
     "output_type": "stream",
     "text": [
      "Value pada key name adalah Rama\n",
      "Value pada key age adalah 22\n"
     ]
    }
   ],
   "source": [
    "# contoh looping dictionary\n",
    "myname = {\n",
    "    \"name\": \"Rama\",\n",
    "    \"age\": 22\n",
    "}\n",
    "\n",
    "for key in myname:\n",
    "    print(f\"Value pada key {key} adalah {myname[key]}\")"
   ]
  },
  {
   "cell_type": "code",
   "execution_count": 22,
   "id": "b7460423-4596-454b-a4d7-55a7c52df1cc",
   "metadata": {},
   "outputs": [
    {
     "data": {
      "text/plain": [
       "73000"
      ]
     },
     "execution_count": 22,
     "metadata": {},
     "output_type": "execute_result"
    }
   ],
   "source": [
    "# contoh menggunakan nilai tampung\n",
    "quantities = [5, 4, 8, 9]\n",
    "prices = [1000, 2000, 3000, 4000]\n",
    "profit = 0\n",
    "for quantity, price in zip(quantities, prices):\n",
    "    profit += (quantity * price) # menampung nilai\n",
    "profit"
   ]
  },
  {
   "cell_type": "code",
   "execution_count": 19,
   "id": "1beb0132-2163-4b3e-be4e-55b2c29de5a3",
   "metadata": {},
   "outputs": [],
   "source": [
    "data = {\n",
    "    \"week1\": [\"pc\", \"laptop\", \"pc\", \"pc\", \"mouse\"],\n",
    "    \"week2\": [\"pc\", \"pc\", \"mouse\"],\n",
    "    \"week3\": [\"keyboard\", \"pc\", \"pc\", \"mouse\"],\n",
    "    \"week4\": [\"pc\", \"laptop\", \"pc\", \"keyboard\", \"mouse\"]\n",
    "}"
   ]
  },
  {
   "cell_type": "code",
   "execution_count": 25,
   "id": "a2c116cf-badc-422c-b32c-c64e40692330",
   "metadata": {},
   "outputs": [
    {
     "name": "stdout",
     "output_type": "stream",
     "text": [
      "None\n",
      "None\n",
      "None\n",
      "None\n"
     ]
    }
   ],
   "source": [
    "def summary_report(data, product):\n",
    "\n",
    "    return\n",
    "\n",
    "print(summary_report(data, \"pc\")) # 9\n",
    "print(summary_report(data, \"mouse\")) # 4\n",
    "print(summary_report(data, \"keyboard\")) # 2\n",
    "print(summary_report(data, \"pc\")) # 9"
   ]
  },
  {
   "cell_type": "markdown",
   "id": "413d6bcd-ed39-497c-b010-b4260c9eb744",
   "metadata": {},
   "source": [
    "# Exercise 5\n",
    "\n",
    "Buatlah program untuk menyeleksi hasil ujian murid. Berapakah rata-rata nilai pada students tersebut."
   ]
  },
  {
   "cell_type": "code",
   "execution_count": 36,
   "id": "50dbcdd8-451b-4f62-8492-e01201dbfdb4",
   "metadata": {},
   "outputs": [
    {
     "name": "stdout",
     "output_type": "stream",
     "text": [
      "None\n"
     ]
    }
   ],
   "source": [
    "def filtered_exercises(students):\n",
    "    return\n",
    "\n",
    "data1 = [{\n",
    "    \"name\": \"Rama\",\n",
    "    \"score\": 80\n",
    "}, {\n",
    "    \"name\": \"Budi\",\n",
    "    \"score\": 90\n",
    "}, {\n",
    "    \"name\": \"Dimas\",\n",
    "    \"score\": 60\n",
    "}]\n",
    "\n",
    "print(filtered_exercises(data1)) # 76.67"
   ]
  },
  {
   "cell_type": "code",
   "execution_count": null,
   "id": "216b154b-b481-4415-821f-c45f0c16651d",
   "metadata": {},
   "outputs": [],
   "source": []
  }
 ],
 "metadata": {
  "kernelspec": {
   "display_name": "Python 3 (ipykernel)",
   "language": "python",
   "name": "python3"
  },
  "language_info": {
   "codemirror_mode": {
    "name": "ipython",
    "version": 3
   },
   "file_extension": ".py",
   "mimetype": "text/x-python",
   "name": "python",
   "nbconvert_exporter": "python",
   "pygments_lexer": "ipython3",
   "version": "3.7.13"
  }
 },
 "nbformat": 4,
 "nbformat_minor": 5
}
